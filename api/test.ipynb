{
 "cells": [
  {
   "cell_type": "code",
   "execution_count": 17,
   "id": "fd7dbb78",
   "metadata": {},
   "outputs": [
    {
     "name": "stdout",
     "output_type": "stream",
     "text": [
      "Collecting requests\n",
      "  Downloading requests-2.32.3-py3-none-any.whl (64 kB)\n",
      "\u001b[2K     \u001b[90m━━━━━━━━━━━━━━━━━━━━━━━━━━━━━━━━━━━━━━━━\u001b[0m \u001b[32m64.9/64.9 kB\u001b[0m \u001b[31m2.6 MB/s\u001b[0m eta \u001b[36m0:00:00\u001b[0m\n",
      "\u001b[?25hCollecting idna<4,>=2.5\n",
      "  Downloading idna-3.10-py3-none-any.whl (70 kB)\n",
      "\u001b[2K     \u001b[90m━━━━━━━━━━━━━━━━━━━━━━━━━━━━━━━━━━━━━━━━\u001b[0m \u001b[32m70.4/70.4 kB\u001b[0m \u001b[31m5.4 MB/s\u001b[0m eta \u001b[36m0:00:00\u001b[0m\n",
      "\u001b[?25hCollecting urllib3<3,>=1.21.1\n",
      "  Downloading urllib3-2.4.0-py3-none-any.whl (128 kB)\n",
      "\u001b[2K     \u001b[90m━━━━━━━━━━━━━━━━━━━━━━━━━━━━━━━━━━━━━━━\u001b[0m \u001b[32m128.7/128.7 kB\u001b[0m \u001b[31m7.5 MB/s\u001b[0m eta \u001b[36m0:00:00\u001b[0m\n",
      "\u001b[?25hCollecting certifi>=2017.4.17\n",
      "  Downloading certifi-2025.4.26-py3-none-any.whl (159 kB)\n",
      "\u001b[2K     \u001b[90m━━━━━━━━━━━━━━━━━━━━━━━━━━━━━━━━━━━━━━━\u001b[0m \u001b[32m159.6/159.6 kB\u001b[0m \u001b[31m7.1 MB/s\u001b[0m eta \u001b[36m0:00:00\u001b[0m\n",
      "\u001b[?25hCollecting charset-normalizer<4,>=2\n",
      "  Downloading charset_normalizer-3.4.2-cp310-cp310-macosx_10_9_universal2.whl (201 kB)\n",
      "\u001b[2K     \u001b[90m━━━━━━━━━━━━━━━━━━━━━━━━━━━━━━━━━━━━━━━\u001b[0m \u001b[32m201.8/201.8 kB\u001b[0m \u001b[31m8.2 MB/s\u001b[0m eta \u001b[36m0:00:00\u001b[0m\n",
      "\u001b[?25hInstalling collected packages: urllib3, idna, charset-normalizer, certifi, requests\n",
      "Successfully installed certifi-2025.4.26 charset-normalizer-3.4.2 idna-3.10 requests-2.32.3 urllib3-2.4.0\n",
      "\n",
      "\u001b[1m[\u001b[0m\u001b[34;49mnotice\u001b[0m\u001b[1;39;49m]\u001b[0m\u001b[39;49m A new release of pip is available: \u001b[0m\u001b[31;49m23.0.1\u001b[0m\u001b[39;49m -> \u001b[0m\u001b[32;49m25.1.1\u001b[0m\n",
      "\u001b[1m[\u001b[0m\u001b[34;49mnotice\u001b[0m\u001b[1;39;49m]\u001b[0m\u001b[39;49m To update, run: \u001b[0m\u001b[32;49mpip install --upgrade pip\u001b[0m\n",
      "Note: you may need to restart the kernel to use updated packages.\n"
     ]
    }
   ],
   "source": [
    "%pip install requests"
   ]
  },
  {
   "cell_type": "code",
   "execution_count": 40,
   "id": "ab3baeb8",
   "metadata": {},
   "outputs": [
    {
     "name": "stdout",
     "output_type": "stream",
     "text": [
      "{'success': True, 'message': 'Your email has been queued for delivery.'}\n"
     ]
    }
   ],
   "source": [
    "import requests\n",
    "\n",
    "API_KEY = '03455d8be574a5f52911f092008006a134f14c388ce73c38563620ed9b59405c'\n",
    "API_URL = 'https://smtp.maileroo.com/send' \n",
    "\n",
    "SENDER_EMAIL = 'no-reply@e69baab1af8724f3.maileroo.org' # 60ca95.10036.0181b5890a288d6e9fc20792f71fb749@g.maileroo.net\n",
    "SENDER_NAME = 'no-reply'\n",
    "RECIPIENT_EMAIL = 'eliksoko@icloud.com'\n",
    "SUBJECT = 'a'\n",
    "MESSAGE_BODY = 'b'\n",
    "\n",
    "payload = {\n",
    "    'from': f'{SENDER_NAME} <{SENDER_EMAIL}>',\n",
    "    'to': RECIPIENT_EMAIL,\n",
    "    'subject': SUBJECT,\n",
    "    'plain': MESSAGE_BODY,\n",
    "}\n",
    "try:\n",
    "    response = requests.post(API_URL, headers={'X-API-Key': API_KEY}, data=payload)\n",
    "    print(response.json())\n",
    "    # if response.status_code == 200 and response.json().get('success'):\n",
    "    #     print(\"Email sent successfully!\")\n",
    "    # else:\n",
    "    #     error_message = response.json().get('message', 'Unknown error')\n",
    "    #     print(f\"Failed to send email: {error_message}\")\n",
    "except Exception as e:\n",
    "    print(f\"Error: {e}\")\n"
   ]
  },
  {
   "cell_type": "code",
   "execution_count": 39,
   "id": "c4f73b72",
   "metadata": {},
   "outputs": [
    {
     "name": "stdout",
     "output_type": "stream",
     "text": [
      "Email sent successfully\n"
     ]
    }
   ],
   "source": [
    "from email.mime.text import MIMEText\n",
    "from smtplib import SMTP, SMTP_SSL, SMTPException\n",
    "\n",
    "subject = 'test'\n",
    "content = 'testestest'\n",
    "to = \"eliksoko@icloud.com\"\n",
    "\n",
    "SMTP_HOST = \"smtp.maileroo.com\"\n",
    "SMTP_PORT = 587\n",
    "SMTP_FROM = '60ca95.10036.0181b5890a288d6e9fc20792f71fb749@g.maileroo.net'\n",
    "SMTP_PASS = 'c15f6a11c6b49e8620979d18'\n",
    "\n",
    "msg = MIMEText(content, 'plain')\n",
    "msg['Subject'] = subject\n",
    "msg['From'] = f'no-reply <{SMTP_FROM}>'\n",
    "msg['To'] = to\n",
    "\n",
    "try:\n",
    "    with SMTP(SMTP_HOST, 2525) as smtp:\n",
    "        smtp.login(SMTP_FROM, SMTP_PASS)\n",
    "        smtp.send_message(msg)\n",
    "    print(\"Email sent successfully\")\n",
    "except SMTPException as e:\n",
    "    print(f\"SMTP error occurred: {e}\")\n",
    "except Exception as e:\n",
    "    print(f\"Unexpected error: {e}\")"
   ]
  }
 ],
 "metadata": {
  "kernelspec": {
   "display_name": ".venv",
   "language": "python",
   "name": "python3"
  },
  "language_info": {
   "codemirror_mode": {
    "name": "ipython",
    "version": 3
   },
   "file_extension": ".py",
   "mimetype": "text/x-python",
   "name": "python",
   "nbconvert_exporter": "python",
   "pygments_lexer": "ipython3",
   "version": "3.10.16"
  }
 },
 "nbformat": 4,
 "nbformat_minor": 5
}
